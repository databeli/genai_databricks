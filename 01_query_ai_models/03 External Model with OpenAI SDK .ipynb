{
 "cells": [
  {
   "cell_type": "markdown",
   "id": "67f3fee7",
   "metadata": {},
   "source": [
    "### Install required Python packages\n",
    "This cell installs all dependencies listed in the requirements file."
   ]
  },
  {
   "cell_type": "code",
   "execution_count": null,
   "id": "ea3ce00c",
   "metadata": {},
   "outputs": [],
   "source": [
    "!pip install -r ./../requirements.txt"
   ]
  },
  {
   "cell_type": "markdown",
   "id": "0f5006ca",
   "metadata": {},
   "source": [
    "### Import necessary libraries\n",
    "This cell imports OpenAI SDK, OS, and dotenv for environment management."
   ]
  },
  {
   "cell_type": "code",
   "execution_count": null,
   "id": "bce24b01",
   "metadata": {},
   "outputs": [],
   "source": [
    "from openai import OpenAI\n",
    "import os\n",
    "from dotenv import load_dotenv"
   ]
  },
  {
   "cell_type": "markdown",
   "id": "d0cc3c4b",
   "metadata": {},
   "source": [
    "### Load environment variables and check Databricks token\n",
    "This cell loads environment variables and checks for the Databricks access token."
   ]
  },
  {
   "cell_type": "code",
   "execution_count": null,
   "id": "c3f893b1",
   "metadata": {},
   "outputs": [],
   "source": [
    "load_dotenv(override=True)\n",
    "# How to get your Databricks token: https://docs.databricks.com/en/dev-tools/auth/pat.html\n",
    "DATABRICKS_TOKEN = os.environ.get('DATABRICKS_TOKEN')\n",
    "\n",
    "# Alternatively in a Databricks notebook you can use this:\n",
    "# DATABRICKS_TOKEN = dbutils.notebook.entry_point.getDbutils().notebook().getContext().apiToken().get()\n",
    "if DATABRICKS_TOKEN:\n",
    "    print(\"Databricks Access Token is available\")\n",
    "else:\n",
    "    print(\"Databricks Access Token is missing. Please set the DATABRICKS_TOKEN environment variable.\")"
   ]
  },
  {
   "cell_type": "markdown",
   "id": "1f33923e",
   "metadata": {},
   "source": [
    "### Create OpenAI client and send a prompt\n",
    "This cell initializes the OpenAI client and sends a prompt to the Databricks endpoint."
   ]
  },
  {
   "cell_type": "code",
   "execution_count": null,
   "id": "4a17834c",
   "metadata": {},
   "outputs": [],
   "source": [
    "\n",
    "\n",
    "client = OpenAI(\n",
    "    api_key=DATABRICKS_TOKEN,\n",
    "    base_url=\"https://adb-894555005040743.3.azuredatabricks.net/serving-endpoints\"\n",
    ")\n",
    "\n",
    "response = client.chat.completions.create(\n",
    "    model=\"gpt-5-nano\",\n",
    "    messages=[\n",
    "        {\n",
    "            \"role\": \"user\",\n",
    "            \"content\": \"How the world can be a better place?\"\n",
    "        }\n",
    "    ],\n",
    "    max_tokens=5000\n",
    ")\n",
    "\n"
   ]
  },
  {
   "cell_type": "markdown",
   "id": "fe136387",
   "metadata": {},
   "source": [
    "### Print the raw response object\n",
    "This cell prints the full response object returned by the model."
   ]
  },
  {
   "cell_type": "code",
   "execution_count": null,
   "id": "7d72c292",
   "metadata": {},
   "outputs": [],
   "source": [
    "print(response)"
   ]
  },
  {
   "cell_type": "markdown",
   "id": "174348d5",
   "metadata": {},
   "source": [
    "### Print only the model's answer\n",
    "This cell prints just the content of the model's reply."
   ]
  },
  {
   "cell_type": "code",
   "execution_count": null,
   "id": "bed25bd3",
   "metadata": {},
   "outputs": [],
   "source": [
    "print(response.choices[0].message.content)"
   ]
  },
  {
   "cell_type": "markdown",
   "id": "c7519e40",
   "metadata": {},
   "source": [
    "### Display the model's answer as formatted Markdown\n",
    "This cell displays the model's reply using Markdown formatting for better readability."
   ]
  },
  {
   "cell_type": "code",
   "execution_count": null,
   "id": "063ab543",
   "metadata": {},
   "outputs": [],
   "source": [
    "from IPython.display import Markdown, display\n",
    "\n",
    "display(Markdown(response.choices[0].message.content))"
   ]
  }
 ],
 "metadata": {
  "kernelspec": {
   "display_name": ".venv (3.13.7)",
   "language": "python",
   "name": "python3"
  },
  "language_info": {
   "codemirror_mode": {
    "name": "ipython",
    "version": 3
   },
   "file_extension": ".py",
   "mimetype": "text/x-python",
   "name": "python",
   "nbconvert_exporter": "python",
   "pygments_lexer": "ipython3",
   "version": "3.13.7"
  }
 },
 "nbformat": 4,
 "nbformat_minor": 5
}
