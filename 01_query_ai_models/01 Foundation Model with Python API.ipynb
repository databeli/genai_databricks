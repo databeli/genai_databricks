{
 "cells": [
  {
   "cell_type": "markdown",
   "id": "b212ee37",
   "metadata": {},
   "source": [
    "The next cell installs all required Python libraries for this notebook using pip."
   ]
  },
  {
   "cell_type": "code",
   "execution_count": null,
   "id": "ba135005",
   "metadata": {},
   "outputs": [],
   "source": [
    "!pip install -r ./../requirements.txt"
   ]
  },
  {
   "cell_type": "markdown",
   "id": "f4a598f0",
   "metadata": {},
   "source": [
    "Now, we import the necessary Python libraries for environment variable management."
   ]
  },
  {
   "cell_type": "code",
   "execution_count": null,
   "id": "8347e273",
   "metadata": {},
   "outputs": [],
   "source": [
    "import os\n",
    "from dotenv import load_dotenv"
   ]
  },
  {
   "cell_type": "markdown",
   "id": "1b28fc93",
   "metadata": {},
   "source": [
    "This cell loads the Databricks access token from the .env file and checks if it is available."
   ]
  },
  {
   "cell_type": "code",
   "execution_count": null,
   "id": "da361501",
   "metadata": {},
   "outputs": [],
   "source": [
    "load_dotenv(override=True)\n",
    "# How to get your Databricks token: https://docs.databricks.com/en/dev-tools/auth/pat.html\n",
    "DATABRICKS_TOKEN = os.environ.get('DATABRICKS_TOKEN')\n",
    "\n",
    "# Alternatively in a Databricks notebook you can use this:\n",
    "# DATABRICKS_TOKEN = dbutils.notebook.entry_point.getDbutils().notebook().getContext().apiToken().get()\n",
    "if DATABRICKS_TOKEN:\n",
    "    print(\"Databricks Access Token is available\")\n",
    "else:\n",
    "    print(\"Databricks Access Token is missing. Please set the DATABRICKS_TOKEN environment variable.\")"
   ]
  },
  {
   "cell_type": "markdown",
   "id": "bc2df679",
   "metadata": {},
   "source": [
    "The following cell sends a prompt to the Databricks LLM endpoint and prints the raw JSON response."
   ]
  },
  {
   "cell_type": "code",
   "execution_count": null,
   "id": "6a774797",
   "metadata": {},
   "outputs": [],
   "source": [
    "import requests\n",
    "\n",
    "url = \"https://adb-894555005040743.3.azuredatabricks.net/serving-endpoints/databricks-meta-llama-3-1-8b-instruct/invocations\"\n",
    "headers = {\n",
    "    \"Authorization\": f\"Bearer {DATABRICKS_TOKEN}\",\n",
    "    \"Content-Type\": \"application/json\"\n",
    "}\n",
    "data = {\n",
    "    \"messages\": [\n",
    "        {\"role\": \"user\", \"content\": \"How the world can be a better place?\"}\n",
    "    ],\n",
    "    \"max_tokens\": 1000\n",
    "}\n",
    "\n",
    "response = requests.post(url, headers=headers, json=data)\n",
    "print(response.json())"
   ]
  },
  {
   "cell_type": "markdown",
   "id": "2435e715",
   "metadata": {},
   "source": [
    "This cell extracts and prints the LLM response as plain text."
   ]
  },
  {
   "cell_type": "code",
   "execution_count": null,
   "id": "0187fa91",
   "metadata": {},
   "outputs": [],
   "source": [
    "print(response.json()['choices'][0]['message']['content'])"
   ]
  },
  {
   "cell_type": "markdown",
   "id": "445331db",
   "metadata": {},
   "source": [
    "Finally, the next cell displays the LLM response in Markdown format for better readability."
   ]
  },
  {
   "cell_type": "code",
   "execution_count": null,
   "id": "e6376aab",
   "metadata": {},
   "outputs": [],
   "source": [
    "from IPython.display import Markdown, display\n",
    "\n",
    "display(Markdown(response.json()['choices'][0]['message']['content']))"
   ]
  }
 ],
 "metadata": {
  "kernelspec": {
   "display_name": ".venv (3.13.7)",
   "language": "python",
   "name": "python3"
  },
  "language_info": {
   "codemirror_mode": {
    "name": "ipython",
    "version": 3
   },
   "file_extension": ".py",
   "mimetype": "text/x-python",
   "name": "python",
   "nbconvert_exporter": "python",
   "pygments_lexer": "ipython3",
   "version": "3.13.7"
  }
 },
 "nbformat": 4,
 "nbformat_minor": 5
}
